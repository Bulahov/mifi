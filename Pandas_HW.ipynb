{
 "cells": [
  {
   "cell_type": "markdown",
   "metadata": {},
   "source": [
    "# Анализ характеристик, влияющих на успеваемость студентов\n"
   ]
  },
  {
   "cell_type": "code",
   "execution_count": 3,
   "metadata": {},
   "outputs": [],
   "source": [
    "import pandas as pd\n",
    "import numpy as np\n",
    "\n",
    "# Отключаем предупреждения\n",
    "pd.set_option('display.max_columns', None)\n",
    "pd.options.mode.chained_assignment = None"
   ]
  },
  {
   "cell_type": "code",
   "execution_count": 5,
   "metadata": {},
   "outputs": [],
   "source": [
    "# Загрузка данных\n",
    "train_df = pd.read_csv('train.csv')\n",
    "questions_df = pd.read_csv('questions.csv')\n",
    "lectures_df = pd.read_csv('lectures.csv')"
   ]
  },
  {
   "cell_type": "code",
   "execution_count": 7,
   "metadata": {},
   "outputs": [],
   "source": [
    "# Отбираем только вопросы\n",
    "questions_only = train_df[train_df['content_type_id'] == 0].copy()"
   ]
  },
  {
   "cell_type": "code",
   "execution_count": 9,
   "metadata": {},
   "outputs": [
    {
     "name": "stdout",
     "output_type": "stream",
     "text": [
      "Размерности датасетов:\n",
      "train_df: (101230332, 10)\n",
      "questions_df: (13523, 5)\n",
      "lectures_df: (418, 4)\n"
     ]
    }
   ],
   "source": [
    "print('Размерности датасетов:')\n",
    "print(f'train_df: {train_df.shape}')\n",
    "print(f'questions_df: {questions_df.shape}')\n",
    "print(f'lectures_df: {lectures_df.shape}')"
   ]
  },
  {
   "cell_type": "markdown",
   "metadata": {},
   "source": [
    "## 1. Анализ времени решения"
   ]
  },
  {
   "cell_type": "code",
   "execution_count": 21,
   "metadata": {},
   "outputs": [
    {
     "name": "stdout",
     "output_type": "stream",
     "text": [
      "Статистика времени решения по правильности ответа:\n",
      "                       count      mean   median       std\n",
      "answered_correctly                                       \n",
      "0                   33901107  25641.99  21000.0  20620.63\n",
      "1                   64977687  25309.98  21000.0  19587.16\n"
     ]
    }
   ],
   "source": [
    "# Анализ времени решения\n",
    "time_analysis = questions_only.groupby('answered_correctly')['prior_question_elapsed_time'].agg([\n",
    "    'count', 'mean', 'median', 'std'\n",
    "]).round(2)\n",
    "\n",
    "print('Статистика времени решения по правильности ответа:')\n",
    "print(time_analysis)\n",
    "\n"
   ]
  },
  {
   "cell_type": "markdown",
   "metadata": {},
   "source": [
    "## 2. Анализ интервалов между вопросами"
   ]
  },
  {
   "cell_type": "code",
   "execution_count": 23,
   "metadata": {},
   "outputs": [
    {
     "name": "stdout",
     "output_type": "stream",
     "text": [
      "\n",
      "Статистика интервалов между вопросами:\n",
      "                       count         mean   median           std\n",
      "answered_correctly                                              \n",
      "0                   33900566  25177173.93  39769.0  5.546770e+08\n",
      "1                   64977078  17971423.31  32587.0  4.632076e+08\n"
     ]
    }
   ],
   "source": [
    "# Анализ интервалов между вопросами\n",
    "questions_only['time_between'] = questions_only.groupby('user_id')['timestamp'].diff()\n",
    "time_intervals = questions_only.groupby('answered_correctly')['time_between'].agg([\n",
    "    'count', 'mean', 'median', 'std'\n",
    "]).round(2)\n",
    "\n",
    "print('\\nСтатистика интервалов между вопросами:')\n",
    "print(time_intervals)"
   ]
  },
  {
   "cell_type": "markdown",
   "metadata": {},
   "source": [
    "## 3. Анализ влияния объяснений"
   ]
  },
  {
   "cell_type": "code",
   "execution_count": 26,
   "metadata": {},
   "outputs": [
    {
     "name": "stdout",
     "output_type": "stream",
     "text": [
      "Влияние наличия объяснений на успеваемость:\n",
      "                                   count   mean    std\n",
      "prior_question_had_explanation                        \n",
      "False                            9193234  0.501  0.500\n",
      "True                            89685560  0.673  0.469\n"
     ]
    }
   ],
   "source": [
    "# Анализ влияния объяснений\n",
    "explanation_impact = questions_only.groupby('prior_question_had_explanation')['answered_correctly'].agg([\n",
    "    'count', 'mean', 'std'\n",
    "]).round(3)\n",
    "\n",
    "print('Влияние наличия объяснений на успеваемость:')\n",
    "print(explanation_impact)"
   ]
  },
  {
   "cell_type": "markdown",
   "metadata": {},
   "source": [
    "## 4. Анализ групп вопросов"
   ]
  },
  {
   "cell_type": "code",
   "execution_count": 29,
   "metadata": {},
   "outputs": [
    {
     "name": "stdout",
     "output_type": "stream",
     "text": [
      "\n",
      "Статистика по группам вопросов:\n",
      "      answered_correctly                              \\\n",
      "                   count          mean           std   \n",
      "count       10000.000000  10000.000000  10000.000000   \n",
      "mean         9927.130000      0.713444      0.451345   \n",
      "std         32457.455136      0.028732      0.013420   \n",
      "min           169.000000      0.315000      0.370000   \n",
      "25%           419.750000      0.695000      0.445000   \n",
      "50%          1308.500000      0.710000      0.454000   \n",
      "75%          5706.750000      0.729000      0.460000   \n",
      "max        801910.000000      0.838000      0.500000   \n",
      "\n",
      "      prior_question_elapsed_time  \n",
      "                             mean  \n",
      "count                10000.000000  \n",
      "mean                 24213.716582  \n",
      "std                   1619.597572  \n",
      "min                  17981.387000  \n",
      "25%                  23132.166500  \n",
      "50%                  24485.039500  \n",
      "75%                  25446.127000  \n",
      "max                  32470.996000  \n"
     ]
    }
   ],
   "source": [
    "# Анализ групп вопросов\n",
    "container_analysis = questions_only.groupby('task_container_id').agg({\n",
    "    'answered_correctly': ['count', 'mean', 'std'],\n",
    "    'prior_question_elapsed_time': 'mean'\n",
    "}).round(3)\n",
    "\n",
    "print('\\nСтатистика по группам вопросов:')\n",
    "print(container_analysis.describe())"
   ]
  },
  {
   "cell_type": "markdown",
   "metadata": {},
   "source": [
    "## 5. Анализ последовательностей ответов"
   ]
  },
  {
   "cell_type": "code",
   "execution_count": 9,
   "metadata": {},
   "outputs": [
    {
     "name": "stdout",
     "output_type": "stream",
     "text": [
      "Влияние предыдущего ответа на успеваемость:\n",
      "                 count   mean    std\n",
      "prev_correct                        \n",
      "0.0           33827647  0.587  0.492\n",
      "1.0           65049997  0.694  0.461\n"
     ]
    }
   ],
   "source": [
    "# Анализ последовательностей ответов\n",
    "questions_only['prev_correct'] = questions_only.groupby('user_id')['answered_correctly'].shift(1)\n",
    "questions_only['prev_time'] = questions_only.groupby('user_id')['prior_question_elapsed_time'].shift(1)\n",
    "\n",
    "sequence_analysis = questions_only.groupby('prev_correct')['answered_correctly'].agg([\n",
    "    'count', 'mean', 'std'\n",
    "]).round(3)\n",
    "\n",
    "print('Влияние предыдущего ответа на успеваемость:')\n",
    "print(sequence_analysis)"
   ]
  },
  {
   "cell_type": "markdown",
   "metadata": {},
   "source": [
    "## 6. Анализ по разделам"
   ]
  },
  {
   "cell_type": "code",
   "execution_count": 11,
   "metadata": {},
   "outputs": [
    {
     "name": "stdout",
     "output_type": "stream",
     "text": [
      "Статистика по разделам:\n",
      "         count   mean    std\n",
      "part                        \n",
      "1      7454570  0.745  0.436\n",
      "2     18743404  0.709  0.454\n",
      "3      8639907  0.701  0.458\n",
      "4      8067676  0.631  0.483\n",
      "5     40908153  0.610  0.488\n",
      "6     10501472  0.669  0.470\n",
      "7      4956118  0.660  0.474\n"
     ]
    }
   ],
   "source": [
    "# Объединяем с метаданными вопросов\n",
    "questions_meta = questions_only.merge(questions_df, \n",
    "                                     left_on='content_id',\n",
    "                                     right_on='question_id',\n",
    "                                     how='left')\n",
    "\n",
    "# Анализ по разделам\n",
    "part_analysis = questions_meta.groupby('part')['answered_correctly'].agg([\n",
    "    'count', 'mean', 'std'\n",
    "]).round(3)\n",
    "\n",
    "print('Статистика по разделам:')\n",
    "print(part_analysis)"
   ]
  },
  {
   "cell_type": "markdown",
   "metadata": {},
   "source": [
    "## 7. Анализ тегов\n",
    "\n",
    "Запустите один из вариантов в зависимости от наличия времени и ресурсов компьютера"
   ]
  },
  {
   "cell_type": "markdown",
   "metadata": {},
   "source": [
    "### Анализ тегов на ограниченной выборке (обрабатывает ограниченное количество данных, отрабатывает быстро)"
   ]
  },
  {
   "cell_type": "code",
   "execution_count": 28,
   "metadata": {},
   "outputs": [],
   "source": [
    "# Анализ тегов на ограниченной выборке\n",
    "def analyze_tags_sample(questions_meta, sample_size=10000):\n",
    "    # Берем случайную выборку\n",
    "    sample_df = questions_meta.sample(n=sample_size, random_state=42)\n",
    "    \n",
    "    # Анализируем теги\n",
    "    tag_stats = {}\n",
    "    \n",
    "    for _, row in sample_df.iterrows():\n",
    "        if isinstance(row['tags'], str):\n",
    "            tags = row['tags'].split()\n",
    "            for tag in tags:\n",
    "                if tag not in tag_stats:\n",
    "                    tag_stats[tag] = {'correct': 0, 'total': 0}\n",
    "                tag_stats[tag]['total'] += 1\n",
    "                if row['answered_correctly'] == 1:\n",
    "                    tag_stats[tag]['correct'] += 1\n",
    "    \n",
    "    # Преобразуем в DataFrame\n",
    "    tag_df = pd.DataFrame([\n",
    "        {\n",
    "            'tag': tag,\n",
    "            'success_rate': data['correct'] / data['total'],\n",
    "            'total_questions': data['total']\n",
    "        }\n",
    "        for tag, data in tag_stats.items()\n",
    "    ])\n",
    "    \n",
    "    # Фильтруем теги с малым количеством вопросов\n",
    "    tag_df = tag_df[tag_df['total_questions'] >= 10]\n",
    "    \n",
    "    return tag_df\n",
    "\n",
    "# Вариант 1: Анализ на выборке\n",
    "tag_analysis = analyze_tags_sample(questions_meta, sample_size=10000)"
   ]
  },
  {
   "cell_type": "markdown",
   "metadata": {
    "jp-MarkdownHeadingCollapsed": true
   },
   "source": [
    "### Анализ тегов по частям (обрабатывает все данные, отрабатывает долго)"
   ]
  },
  {
   "cell_type": "code",
   "execution_count": null,
   "metadata": {},
   "outputs": [],
   "source": [
    "# Анализ тегов по частям\n",
    "def analyze_tags_in_batches(questions_meta, batch_size=5000):\n",
    "    total_tags = {}\n",
    "    \n",
    "    # Обрабатываем данные батчами\n",
    "    for start in range(0, len(questions_meta), batch_size):\n",
    "        end = start + batch_size\n",
    "        batch = questions_meta.iloc[start:end]\n",
    "        \n",
    "        # Анализируем батч\n",
    "        for _, row in batch.iterrows():\n",
    "            if isinstance(row['tags'], str):\n",
    "                tags = row['tags'].split()\n",
    "                for tag in tags:\n",
    "                    if tag not in total_tags:\n",
    "                        total_tags[tag] = {'correct': 0, 'total': 0}\n",
    "                    total_tags[tag]['total'] += 1\n",
    "                    if row['answered_correctly'] == 1:\n",
    "                        total_tags[tag]['correct'] += 1\n",
    "                        \n",
    "        # Промежуточный отчет\n",
    "        print(f\"Обработано {end} из {len(questions_meta)} записей\")\n",
    "    \n",
    "    # Преобразуем результаты в DataFrame\n",
    "    tag_df = pd.DataFrame([\n",
    "        {\n",
    "            'tag': tag,\n",
    "            'success_rate': data['correct'] / data['total'],\n",
    "            'total_questions': data['total']\n",
    "        }\n",
    "        for tag, data in total_tags.items()\n",
    "    ])\n",
    "    \n",
    "    return tag_df[tag_df['total_questions'] >= 10]\n",
    "\n",
    "# или Вариант 2: Анализ по частям\n",
    "tag_analysis = analyze_tags_in_batches(questions_meta, batch_size=500000)"
   ]
  },
  {
   "cell_type": "markdown",
   "metadata": {},
   "source": [
    "### Вывод результатов"
   ]
  },
  {
   "cell_type": "code",
   "execution_count": 30,
   "metadata": {},
   "outputs": [
    {
     "name": "stdout",
     "output_type": "stream",
     "text": [
      "Топ-5 самых сложных тегов:\n",
      "     tag  success_rate  total_questions\n",
      "16   151      0.389831               59\n",
      "50    24      0.413793               29\n",
      "163   58      0.437500               32\n",
      "135  161      0.438776               98\n",
      "107   78      0.444444               18\n",
      "\n",
      "Топ-5 самых легких тегов:\n",
      "     tag  success_rate  total_questions\n",
      "173   40      0.944444               18\n",
      "151  177      0.933333               30\n",
      "46   149      0.918919               37\n",
      "166  187      0.913043               23\n",
      "93    13      0.894737               19\n"
     ]
    }
   ],
   "source": [
    "# Вывод результатов\n",
    "print('Топ-5 самых сложных тегов:')\n",
    "print(tag_analysis.nsmallest(5, 'success_rate')[['tag', 'success_rate', 'total_questions']])\n",
    "\n",
    "print('\\nТоп-5 самых легких тегов:')\n",
    "print(tag_analysis.nlargest(5, 'success_rate')[['tag', 'success_rate', 'total_questions']])"
   ]
  },
  {
   "cell_type": "markdown",
   "metadata": {},
   "source": [
    "## 8. Влияние лекций"
   ]
  },
  {
   "cell_type": "code",
   "execution_count": 33,
   "metadata": {},
   "outputs": [
    {
     "name": "stdout",
     "output_type": "stream",
     "text": [
      "Влияние количества просмотренных лекций:\n",
      "                    count   mean    std\n",
      "lectures_viewed                        \n",
      "0                23452220  0.596  0.491\n",
      "1                 6270189  0.667  0.471\n",
      "2                 4699417  0.666  0.472\n",
      "3                 3703144  0.669  0.471\n",
      "4                 3240789  0.670  0.470\n",
      "...                   ...    ...    ...\n",
      "393                    55  0.600  0.494\n",
      "394                  1815  0.646  0.478\n",
      "395                  2331  0.850  0.357\n",
      "396                    15  0.933  0.258\n",
      "397                   529  0.783  0.413\n",
      "\n",
      "[398 rows x 3 columns]\n"
     ]
    }
   ],
   "source": [
    "# Анализ влияния лекций\n",
    "def calculate_lecture_impact(user_data):\n",
    "    user_data = user_data.sort_values('timestamp')\n",
    "    user_data['lectures_viewed'] = (user_data['content_type_id'] == 1).cumsum()\n",
    "    return user_data[user_data['content_type_id'] == 0]\n",
    "\n",
    "lecture_impact = pd.concat([calculate_lecture_impact(group) \n",
    "                           for _, group in train_df.groupby('user_id')])\n",
    "\n",
    "lecture_stats = lecture_impact.groupby('lectures_viewed')['answered_correctly'].agg([\n",
    "    'count', 'mean', 'std'\n",
    "]).round(3)\n",
    "\n",
    "print('Влияние количества просмотренных лекций:')\n",
    "print(lecture_stats)"
   ]
  },
  {
   "cell_type": "markdown",
   "metadata": {},
   "source": [
    "## 6. Анализ вляния типов лекций"
   ]
  },
  {
   "cell_type": "code",
   "execution_count": 35,
   "metadata": {},
   "outputs": [
    {
     "name": "stdout",
     "output_type": "stream",
     "text": [
      "Статистика по типам лекций:\n",
      "                  user_id prior_question_had_explanation\n",
      "type_of                                                 \n",
      "concept           2195409                       0.328385\n",
      "intention          145066                       0.256428\n",
      "solving question   917263                       0.498889\n",
      "starter              5013                        0.97346\n"
     ]
    }
   ],
   "source": [
    "# Объединяем данные о лекциях\n",
    "lectures_meta = train_df.merge(lectures_df,\n",
    "                              left_on='content_id',\n",
    "                              right_on='lecture_id',\n",
    "                              how='inner')\n",
    "\n",
    "# Анализ эффективности разных типов лекций\n",
    "lecture_type_impact = lectures_meta.groupby('type_of').agg({\n",
    "    'user_id': 'count',  # количество просмотров\n",
    "    'prior_question_had_explanation': 'mean'  # влияние на последующие объяснения\n",
    "}).round(3)\n",
    "\n",
    "print('Статистика по типам лекций:')\n",
    "print(lecture_type_impact)"
   ]
  }
 ],
 "metadata": {
  "kernelspec": {
   "display_name": "Python 3 (ipykernel)",
   "language": "python",
   "name": "python3"
  },
  "language_info": {
   "codemirror_mode": {
    "name": "ipython",
    "version": 3
   },
   "file_extension": ".py",
   "mimetype": "text/x-python",
   "name": "python",
   "nbconvert_exporter": "python",
   "pygments_lexer": "ipython3",
   "version": "3.12.4"
  }
 },
 "nbformat": 4,
 "nbformat_minor": 4
}
